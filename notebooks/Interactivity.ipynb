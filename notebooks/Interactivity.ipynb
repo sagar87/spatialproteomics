{
 "cells": [
  {
   "cell_type": "markdown",
   "metadata": {},
   "source": [
    "# Interactivity with napari\n",
    "\n",
    "*Spatialproteomics* has a variety of functions to ensure interoperability with existing tools. For example, we can export the *spatialproteomics* object into *spatialdata*, and the use *napari* for interactive visualizations.\n",
    "\n",
    "If you want to follow along with this tutorial, you can download the data [here](https://oc.embl.de/index.php/s/XzEa9po1tjiDzzJ)."
   ]
  },
  {
   "cell_type": "code",
   "execution_count": 1,
   "metadata": {
    "tags": []
   },
   "outputs": [
    {
     "name": "stderr",
     "output_type": "stream",
     "text": [
      "/home/meyerben/meyerben/.conda/envs/tmp_env_3/lib/python3.10/site-packages/dask/dataframe/__init__.py:31: FutureWarning: The legacy Dask DataFrame implementation is deprecated and will be removed in a future version. Set the configuration option `dataframe.query-planning` to `True` or None to enable the new Dask Dataframe implementation and silence this warning.\n",
      "  warnings.warn(\n",
      "No OpenGL_accelerate module loaded: No module named 'OpenGL_accelerate'\n"
     ]
    }
   ],
   "source": [
    "import spatialproteomics as sp\n",
    "import xarray as xr\n",
    "from napari_spatialdata import Interactive\n",
    "import numpy as np"
   ]
  },
  {
   "cell_type": "code",
   "execution_count": 3,
   "metadata": {
    "tags": []
   },
   "outputs": [],
   "source": [
    "# loading in a data set and performing some formatting for convenience\n",
    "ds = xr.open_zarr(\"../../data/LN_11_1.zarr\")"
   ]
  },
  {
   "cell_type": "code",
   "execution_count": 4,
   "metadata": {
    "tags": []
   },
   "outputs": [
    {
     "name": "stdout",
     "output_type": "stream",
     "text": [
      "\u001b[34mINFO    \u001b[0m Transposing `data` of type: \u001b[1m<\u001b[0m\u001b[1;95mclass\u001b[0m\u001b[39m \u001b[0m\u001b[32m'dask.array.core.Array'\u001b[0m\u001b[1m>\u001b[0m to \u001b[1m(\u001b[0m\u001b[32m'c'\u001b[0m, \u001b[32m'y'\u001b[0m, \u001b[32m'x'\u001b[0m\u001b[1m)\u001b[0m.                           \n",
      "\u001b[34mINFO    \u001b[0m Transposing `data` of type: \u001b[1m<\u001b[0m\u001b[1;95mclass\u001b[0m\u001b[39m \u001b[0m\u001b[32m'dask.array.core.Array'\u001b[0m\u001b[1m>\u001b[0m to \u001b[1m(\u001b[0m\u001b[32m'y'\u001b[0m, \u001b[32m'x'\u001b[0m\u001b[1m)\u001b[0m.                                \n"
     ]
    },
    {
     "data": {
      "text/plain": [
       "SpatialData object\n",
       "├── Images\n",
       "│     └── 'image': DataArray[cyx] (56, 3000, 3000)\n",
       "├── Labels\n",
       "│     └── 'segmentation': DataArray[yx] (3000, 3000)\n",
       "└── Tables\n",
       "      └── 'table': AnnData (16871, 56)\n",
       "with coordinate systems:\n",
       "    ▸ 'global', with elements:\n",
       "        image (Images), segmentation (Labels)"
      ]
     },
     "execution_count": 4,
     "metadata": {},
     "output_type": "execute_result"
    }
   ],
   "source": [
    "# turning the spatialproteomics object into a spatialdata object\n",
    "sd_obj = ds.tl.convert_to_spatialdata()\n",
    "sd_obj"
   ]
  },
  {
   "cell_type": "code",
   "execution_count": null,
   "metadata": {
    "scrolled": true
   },
   "outputs": [],
   "source": [
    "interactive = Interactive(sd_obj)\n",
    "interactive.run()"
   ]
  },
  {
   "cell_type": "markdown",
   "metadata": {},
   "source": [
    "Running this code in a python script will open `napari`, which you can then use to interactively look at your data. You can look at different markers, visualize cell types, neighborhoods, and many more. Below are some examples of what you can visualize with `napari`.\n",
    "\n",
    "#### Markers\n",
    "![Visualization of a marker with napari](../_static/img/napari_marker.png)\n",
    "\n",
    "#### Segmentation\n",
    "![Visualization of a segmentation with napari](../_static/img/napari_segmentation.png)\n",
    "\n",
    "#### Cell Type Labels\n",
    "![Visualization of a cell type labels with napari](../_static/img/napari_labels.png)\n",
    "\n",
    "#### Binarization\n",
    "![Visualization of a marker binarization with napari](../_static/img/napari_binarization.png)\n",
    "\n",
    "#### Neighborhoods\n",
    "![Visualization of neighborhoods with napari](../_static/img/napari_neighborhoods.png)\n",
    "\n",
    "#### Features\n",
    "![Visualization of homophily with napari](../_static/img/napari_homophily.png)"
   ]
  }
 ],
 "metadata": {
  "kernelspec": {
   "display_name": "tmp_env_3",
   "language": "python",
   "name": "tmp_env_3"
  },
  "language_info": {
   "codemirror_mode": {
    "name": "ipython",
    "version": 3
   },
   "file_extension": ".py",
   "mimetype": "text/x-python",
   "name": "python",
   "nbconvert_exporter": "python",
   "pygments_lexer": "ipython3",
   "version": "3.10.0"
  }
 },
 "nbformat": 4,
 "nbformat_minor": 4
}
