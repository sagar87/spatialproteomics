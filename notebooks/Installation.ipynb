{
 "cells": [
  {
   "cell_type": "markdown",
   "metadata": {},
   "source": [
    "# Installation\n",
    "\n",
    "Install `spatialproteomics` with `pip install spatialproteomics`.\n",
    "\n",
    "## Extras\n",
    "Some of the functionalities depend on external tools (e. g. `stardist`, `cellpose`,  `spatialdata`). Since having lots of external tools also leads to lots of dependencies, installing all of them into one environment is prone to cause dependency conflicts. \n",
    "\n",
    "Depending on your needs, you can choose which tools you want to install together with the `spatialproteomics` core like this:\n",
    "```\n",
    "pip install \"spatialproteomics[stardist]\"\n",
    "pip install \"spatialproteomics[cellpose]\"\n",
    "pip install \"spatialproteomics[spatialdata]\"\n",
    "pip install \"spatialproteomics[all]\"\n",
    "```\n",
    "\n",
    "The latter one will install all external packages automatically (apart from `deepcell`, the package behind `mesmer`, which strictly requires `python==3.10`. To reduce potential conflicts with other packages, this package needs to be installed by the user manually).\n",
    "\n",
    "For `astir`, the version on pip is deprecated, so users will need to install it from [GitHub](https://github.com/camlab-bioml/astir) directly.\n",
    "\n",
    "You can also combine dependencies like this:\n",
    "```\n",
    "pip install \"spatialproteomics[cellpose,spatialdata]\"\n",
    "```"
   ]
  }
 ],
 "metadata": {
  "kernelspec": {
   "display_name": "Python 3 (ipykernel)",
   "language": "python",
   "name": "python3"
  },
  "language_info": {
   "codemirror_mode": {
    "name": "ipython",
    "version": 3
   },
   "file_extension": ".py",
   "mimetype": "text/x-python",
   "name": "python",
   "nbconvert_exporter": "python",
   "pygments_lexer": "ipython3",
   "version": "3.11.13"
  }
 },
 "nbformat": 4,
 "nbformat_minor": 4
}
